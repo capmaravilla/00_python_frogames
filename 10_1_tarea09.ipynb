{
 "cells": [
  {
   "cell_type": "code",
   "execution_count": 101,
   "metadata": {},
   "outputs": [
    {
     "data": {
      "text/plain": [
       "[1, 3, 7]"
      ]
     },
     "execution_count": 101,
     "metadata": {},
     "output_type": "execute_result"
    }
   ],
   "source": [
    "def dividers(n):\n",
    "    \"\"\"\n",
    "    Busca todos los divisores del número entero positivo dado por parámetro y devuelva \n",
    "    una lista con todos los divisores de dicho número\n",
    "\n",
    "    Args:\n",
    "        n (int): numero entero positivo\n",
    "\n",
    "    Returns:\n",
    "        l(list): lista con todos los divisores del número\n",
    "    \"\"\"    \n",
    "    l = []\n",
    "    for i in range(1,int((n / 2) + 1)):\n",
    "        if n % i == 0:\n",
    "            l.append(i)\n",
    "    return l\n",
    "\n",
    "dividers(21)\n"
   ]
  },
  {
   "cell_type": "code",
   "execution_count": 10,
   "metadata": {},
   "outputs": [
    {
     "data": {
      "text/plain": [
       "9"
      ]
     },
     "execution_count": 10,
     "metadata": {},
     "output_type": "execute_result"
    }
   ],
   "source": [
    "def higher(a,b):\n",
    "    \"\"\"\n",
    "     Dados dos números reales por parámetro, devuelve el mayor\n",
    "\n",
    "    Args:\n",
    "        a (int): número\n",
    "        b (int): número\n",
    "\n",
    "    Returns:\n",
    "        (int): devuelve el número mayor\n",
    "    \"\"\"    \n",
    "    if a > b:\n",
    "        return a\n",
    "    return b\n",
    "\n",
    "higher(7,9)"
   ]
  },
  {
   "cell_type": "code",
   "execution_count": 13,
   "metadata": {},
   "outputs": [
    {
     "data": {
      "text/plain": [
       "5"
      ]
     },
     "execution_count": 13,
     "metadata": {},
     "output_type": "execute_result"
    }
   ],
   "source": [
    "def absolute(n):\n",
    "    \"\"\"\n",
    "    Dado un número devuelva su valor absoluto\n",
    "\n",
    "    Args:\n",
    "        n (int): número\n",
    "\n",
    "    Returns:\n",
    "        int: valor absoluto de n\n",
    "    \"\"\"    \n",
    "    if n > 0:\n",
    "        return n\n",
    "    return -1 * n\n",
    "\n",
    "absolute(-5)"
   ]
  },
  {
   "cell_type": "code",
   "execution_count": 19,
   "metadata": {},
   "outputs": [
    {
     "data": {
      "text/plain": [
       "False"
      ]
     },
     "execution_count": 19,
     "metadata": {},
     "output_type": "execute_result"
    }
   ],
   "source": [
    "def vowel(c):\n",
    "    \"\"\"\n",
    "     Devuelva True si el caracter introducido por parámetro se trata de una vocal y False\n",
    "     en caso contrario\n",
    "\n",
    "    Args:\n",
    "        a (str): caracter\n",
    "\n",
    "    Returns:\n",
    "        (boolean): True si el parametro es una vocal, False si no\n",
    "    \"\"\" \n",
    "    if c.lower() in [\"a\", \"e\", \"i\", \"o\", \"u\" ]:\n",
    "    # if a != 'a' and a != 'e' and a != 'i' and a != 'o' and a != 'u':\n",
    "        return False\n",
    "    return True\n",
    " \n",
    "vowel('h')"
   ]
  },
  {
   "cell_type": "code",
   "execution_count": 102,
   "metadata": {},
   "outputs": [
    {
     "data": {
      "text/plain": [
       "3"
      ]
     },
     "execution_count": 102,
     "metadata": {},
     "output_type": "execute_result"
    }
   ],
   "source": [
    "# funcion msc()\n",
    "def mcd(a,b):\n",
    "    \"\"\"\n",
    "    Devuelve el MCD (máximo común divisor) de 2 números proporcionados por parámetro.\n",
    "    Reutilizo mi funcion de dividers()\n",
    "\n",
    "    Args:\n",
    "        a (int): número\n",
    "        b (int): número\n",
    "\n",
    "    Returns:\n",
    "        (int): MCD de a y b\n",
    "    \"\"\"    \n",
    "    max = 0\n",
    "    # Reutilizo la funcion dividers()\n",
    "    ad = dividers(a)\n",
    "    bd = dividers(b)\n",
    "    for i in ad:\n",
    "        for j in bd:\n",
    "            if i != j:\n",
    "                continue\n",
    "            if i > max:\n",
    "                max = i\n",
    "    return max\n",
    "\n",
    "mcd(9,6)\n"
   ]
  },
  {
   "cell_type": "code",
   "execution_count": 65,
   "metadata": {},
   "outputs": [
    {
     "data": {
      "text/plain": [
       "336.0"
      ]
     },
     "execution_count": 65,
     "metadata": {},
     "output_type": "execute_result"
    }
   ],
   "source": [
    "def mcm(a,b):\n",
    "    \"\"\"\n",
    "    Devuelva el MCM (mínimo común múltiplo) de 2 números proporcionados por parámetro\n",
    "    Reutilizo mi funcion de msd() que a su vez utiliza dividers()\n",
    "\n",
    "    Args:\n",
    "        a (int): número\n",
    "        b (int): número\n",
    "\n",
    "    Returns:\n",
    "        int: Devuelve el MCM de a y b\n",
    "    \"\"\"\n",
    "    return absolute(a * b) / mcd(a,b)\n",
    "\n",
    "mcm(21,16)\n",
    "\n"
   ]
  },
  {
   "cell_type": "code",
   "execution_count": 80,
   "metadata": {},
   "outputs": [
    {
     "data": {
      "text/plain": [
       "'Es palíndroma'"
      ]
     },
     "execution_count": 80,
     "metadata": {},
     "output_type": "execute_result"
    }
   ],
   "source": [
    "def palindrome(s):\n",
    "    s = s.lower()\n",
    "    s_inv = \"\".join(reversed(s))\n",
    "    if s != s_inv:\n",
    "        return \"No es palíndroma\"\n",
    "    return \"Es palíndroma\"\n",
    "\n",
    "palindrome(\"Asa\")"
   ]
  },
  {
   "cell_type": "code",
   "execution_count": 86,
   "metadata": {},
   "outputs": [
    {
     "data": {
      "text/plain": [
       "[255, 87, 51]"
      ]
     },
     "execution_count": 86,
     "metadata": {},
     "output_type": "execute_result"
    }
   ],
   "source": [
    "def hex_to_rgb(hex):\n",
    "    \"\"\"\n",
    "     Dado un color en hexadecimal devuelva una lista de 3 posiciones, cada una de ellas \n",
    "     correspondiente al valor R, G o B en este orden\n",
    "\n",
    "    Args:\n",
    "        hex (str): Código de color hexadecimal\n",
    "\n",
    "    Returns:\n",
    "        (list): lista con valores R, G y B en ese orden\n",
    "    \"\"\"    \n",
    "    r = int(hex[0:2],16)\n",
    "    g = int(hex[2:4],16)\n",
    "    b = int(hex[4:6],16)\n",
    "    return [r, g, b]\n",
    "\n",
    "hex_to_rgb(\"ff5733\")"
   ]
  },
  {
   "cell_type": "code",
   "execution_count": 104,
   "metadata": {},
   "outputs": [
    {
     "data": {
      "text/plain": [
       "{'even': 2, 'odd': 3}"
      ]
     },
     "execution_count": 104,
     "metadata": {},
     "output_type": "execute_result"
    }
   ],
   "source": [
    "def odd_even_words(l):\n",
    "    \"\"\"\n",
    "    Dada una lista de palabras por parámetro, devuelva un diccionario que contenga\n",
    "    cuántas son de longitud par y cuántas de longitud impar\n",
    "\n",
    "    Args:\n",
    "        l (list): Lista de palabras\n",
    "\n",
    "    Returns:\n",
    "        (dict): Diccionario con la cuenta de palabras pares e impares\n",
    "    \"\"\"    \n",
    "    dicc = {\n",
    "        \"even\": 0, \n",
    "        \"odd\": 0\n",
    "        }\n",
    "    for i in l:\n",
    "        if len(i) % 2 == 0:\n",
    "            dicc[\"even\"] += 1\n",
    "        else:\n",
    "            dicc[\"odd\"] += 1\n",
    "    \n",
    "    # dicc = dict()\n",
    "    # even = 0\n",
    "    # odd = 0\n",
    "    # for i in l:\n",
    "    #     if len(i) % 2 == 0:\n",
    "    #         even += 1\n",
    "    #     else:\n",
    "    #         odd += 1\n",
    "    # dicc['even'] = even\n",
    "    # dicc['odd'] = odd\n",
    "    return dicc\n",
    "\n",
    "words = [\"hola\", \"amigo\", \"casa\", \"sal\", \"perro\"]\n",
    "odd_even_words(words)"
   ]
  },
  {
   "cell_type": "code",
   "execution_count": 100,
   "metadata": {},
   "outputs": [
    {
     "data": {
      "text/plain": [
       "{'b': 1,\n",
       " 'i': 3,\n",
       " 'e': 2,\n",
       " 'n': 3,\n",
       " 'v': 1,\n",
       " 'd': 2,\n",
       " 'o': 2,\n",
       " 's': 1,\n",
       " ' ': 3,\n",
       " 'a': 1,\n",
       " 'm': 2,\n",
       " 'u': 1}"
      ]
     },
     "execution_count": 100,
     "metadata": {},
     "output_type": "execute_result"
    }
   ],
   "source": [
    "def character_counter(str):\n",
    "    \"\"\"\n",
    "    Dado un string por parámetro cuente cuántas veces sale cada caracter en dicho string \n",
    "    y devuelva toda esa información en un diccionario\n",
    "\n",
    "    Args:\n",
    "        str (str): frase a analizar\n",
    "\n",
    "    Returns:\n",
    "        (dict): diccionario con todos los caracteres y cuantas veces salen\n",
    "    \"\"\"    \n",
    "    dicc = {}\n",
    "    for i in str.lower():\n",
    "        if i not in dicc:\n",
    "            dicc[i] = 0\n",
    "        dicc[i] += 1\n",
    "    return dicc\n",
    "\n",
    "sentence = \"Bienvenidos a mi mundo\"\n",
    "character_counter(sentence)"
   ]
  },
  {
   "cell_type": "code",
   "execution_count": null,
   "metadata": {},
   "outputs": [],
   "source": []
  }
 ],
 "metadata": {
  "kernelspec": {
   "display_name": "Python 3",
   "language": "python",
   "name": "python3"
  },
  "language_info": {
   "codemirror_mode": {
    "name": "ipython",
    "version": 3
   },
   "file_extension": ".py",
   "mimetype": "text/x-python",
   "name": "python",
   "nbconvert_exporter": "python",
   "pygments_lexer": "ipython3",
   "version": "3.13.1"
  }
 },
 "nbformat": 4,
 "nbformat_minor": 2
}
