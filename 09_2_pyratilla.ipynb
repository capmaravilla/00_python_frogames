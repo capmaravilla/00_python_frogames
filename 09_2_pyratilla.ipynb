{
 "cells": [
  {
   "cell_type": "code",
   "execution_count": 1,
   "metadata": {},
   "outputs": [
    {
     "name": "stdout",
     "output_type": "stream",
     "text": [
      "Atacamos al Comebarcos 1\n",
      "Atacamos con flechas\n",
      "1 2 3 4 5 6 7 8 9 10 11 12 13 14 15 16 17 18 19 20 ¡Comebarcos muerto! Quedan 8 comebarcos.\n",
      "Atacamos al Comebarcos 2\n",
      "Atacamos con espada\n",
      "1 2 3 4 5 ¡Comebarcos muerto! Quedan 7 comebarcos.\n",
      "Atacamos al Comebarcos 3\n",
      "Atacamos con daga\n",
      "1 2 3 4 5 6 7 8 9 10 11 12 13 14 15 ¡Comebarcos muerto! Quedan 6 comebarcos.\n",
      "Atacamos al Comebarcos 4\n",
      "Atacamos con puñal\n",
      "1 2 3 4 5 6 7 8 9 10 11 12 ¡Comebarcos muerto! Quedan 5 comebarcos.\n",
      "Atacamos al Comebarcos 5\n",
      "Atacamos con martillo\n",
      "1 2 3 4 5 6 7 ¡Comebarcos muerto! Quedan 4 comebarcos.\n",
      "Atacamos al Comebarcos 6\n",
      "Atacamos con hacha\n",
      "1 2 3 4 5 6 7 8 9 10 ¡Comebarcos muerto! Quedan 3 comebarcos.\n",
      "Atacamos al Comebarcos 7\n",
      "Atacamos con maza\n",
      "1 2 3 ¡Comebarcos muerto! Quedan 2 comebarcos.\n",
      "Atacamos al Comebarcos 8\n",
      "Atacamos con machete\n",
      "1 2 3 4 5 6 7 8 ¡Comebarcos muerto! Quedan 1 comebarcos.\n",
      "(('moneda', 'Isla Alegre', 'Amarillo'), ('coralina', 'Isla Arrecife', 'azul'), ('rupia', 'Isla Verde', 'verde'), ('chuche', 'Isla Golosa', 'rosa'), ('lita', 'Isla Lejana', 'roja'), ('gema', 'Isla Espesura', 'morado'), ('corona', 'Isla Torva', 'naranja'))\n"
     ]
    }
   ],
   "source": [
    "weapons = ((\"flechas\", 20), (\"espada\" , 5), (\"daga\", 15), (\"puñal\", 12), (\"martillo\", 7), (\"hacha\", 10), (\"maza\", 3), (\"machete\", 8))\n",
    "\n",
    "for comebarcos in range(8):\n",
    "    print(\"Atacamos al Comebarcos {}\".format(comebarcos + 1))\n",
    "    print(\"Atacamos con {}\".format(weapons[comebarcos][0]))\n",
    "    for ataque in range(weapons[comebarcos][1]):\n",
    "        print(ataque + 1, end = \" \")\n",
    "    print(\"¡Comebarcos muerto! Quedan {} comebarcos.\".format(8 - comebarcos))\n",
    "\n",
    "islands = {\"Isla Alegre\", \"Isla Golosa\", \"Isla Espesura\", \"Isla Arrecife\", \"Isla Lejana\", \"Isla Torva\", \"Isla Verde\"}\n",
    "visited_islands = {\"Isla Alegre\", \"Isla Arrecife\"}\n",
    "unvisited_islands = islands - visited_islands\n",
    "\n",
    "isla = (\n",
    "    \"Isla Alegre\", \n",
    "    \"Isla Arrecife\", \n",
    "    \"Isla Verde\", \n",
    "    \"Isla Golosa\",\n",
    "    \"Isla Lejana\",\n",
    "    \"Isla Espesura\", \n",
    "    \"Isla Torva\")\n",
    "\n",
    "moneda = (\n",
    "    \"moneda\",\n",
    "    \"coralina\",\n",
    "    \"rupia\",\n",
    "    \"chuche\",\n",
    "    \"lita\",\n",
    "    \"gema\",\n",
    "    \"corona\")\n",
    "\n",
    "color = (\n",
    "    \"Amarillo\",\n",
    "    \"azul\",\n",
    "    \"verde\",\n",
    "    \"rosa\",\n",
    "    \"roja\",\n",
    "    \"morado\",\n",
    "    \"naranja\"\n",
    ")\n",
    "coins = tuple(zip(moneda, isla, color))\n",
    "print(coins)\n",
    "\n"
   ]
  },
  {
   "cell_type": "code",
   "execution_count": null,
   "metadata": {},
   "outputs": [],
   "source": []
  }
 ],
 "metadata": {
  "kernelspec": {
   "display_name": "Python 3",
   "language": "python",
   "name": "python3"
  },
  "language_info": {
   "codemirror_mode": {
    "name": "ipython",
    "version": 3
   },
   "file_extension": ".py",
   "mimetype": "text/x-python",
   "name": "python",
   "nbconvert_exporter": "python",
   "pygments_lexer": "ipython3",
   "version": "3.13.1"
  }
 },
 "nbformat": 4,
 "nbformat_minor": 2
}
