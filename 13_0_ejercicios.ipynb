{
 "cells": [
  {
   "cell_type": "code",
   "execution_count": 7,
   "id": "a7d6decb",
   "metadata": {},
   "outputs": [],
   "source": [
    "def bigger(a, b):\n",
    "    \"\"\"\n",
    "    Devuelve el numero mas alto\n",
    "    \"\"\"\n",
    "    if a >= b:\n",
    "        return a\n",
    "    return b\n",
    "\n",
    "\n",
    "def lower(a, b):\n",
    "    \"\"\"\n",
    "    Devuelve el numero mas bajo\n",
    "    \"\"\"\n",
    "    if a <= b:\n",
    "        return a\n",
    "    return b\n",
    "\n",
    "\n",
    "def mcd(a, b):\n",
    "    \"\"\"\n",
    "    Calcula el minimo comun divisor\n",
    "    \"\"\"\n",
    "    r = 0\n",
    "    max = bigger(a, b)\n",
    "    min = lower(a, b)\n",
    "    while min > 0:\n",
    "        r = min\n",
    "        min = max % min\n",
    "        max = r\n",
    "    return max\n",
    "\n",
    "\n",
    "class RationalNumber:\n",
    "\n",
    "    def __init__(self, n, d=1):\n",
    "        if type(n) is int and type(d) is int:\n",
    "            self.numerator = n\n",
    "            self.denominator = d\n",
    "        else:\n",
    "            print(\"El numerado y denominador deben de ser enteros\")\n",
    "\n",
    "    def __str__(self):  # Esto se muestra cuando hago un print a una instanacia\n",
    "        return f\"{self.numerator}/{self.denominator}\"\n",
    "\n",
    "    def __del__(self):  # Esto se muestra cuando borro una instanacia `del instancia`\n",
    "        print(\"Destruyendo instancia...\")\n",
    "\n",
    "    def math_format(self):\n",
    "        from IPython.display import display, Latex\n",
    "\n",
    "        display(Latex(f\"${self.numerator}\\\\over{self.denominator}$\"))\n",
    "\n",
    "    def quotient(self):\n",
    "        return self.numerator / self.denominator\n",
    "\n",
    "    def is_infinite(self):\n",
    "        return self.denominator == 0\n",
    "\n",
    "    def simplify(self):\n",
    "        div = mcd(self.numerator, self.denominator)\n",
    "        self.numerator = int(self.numerator / div)\n",
    "        self.denominator = int(self.denominator / div)"
   ]
  },
  {
   "cell_type": "code",
   "execution_count": 36,
   "id": "9b3f369f",
   "metadata": {},
   "outputs": [
    {
     "name": "stdout",
     "output_type": "stream",
     "text": [
      "Destruyendo instancia...\n"
     ]
    },
    {
     "data": {
      "text/latex": [
       "$24848\\over2224$"
      ],
      "text/plain": [
       "<IPython.core.display.Latex object>"
      ]
     },
     "metadata": {},
     "output_type": "display_data"
    },
    {
     "data": {
      "text/latex": [
       "$1553\\over139$"
      ],
      "text/plain": [
       "<IPython.core.display.Latex object>"
      ]
     },
     "metadata": {},
     "output_type": "display_data"
    },
    {
     "data": {
      "text/plain": [
       "11.172661870503598"
      ]
     },
     "execution_count": 36,
     "metadata": {},
     "output_type": "execute_result"
    }
   ],
   "source": [
    "r = RationalNumber(24848, 2224)\n",
    "r.math_format()\n",
    "r.simplify()\n",
    "r.math_format()\n",
    "r.is_infinite()\n",
    "r.quotient()"
   ]
  }
 ],
 "metadata": {
  "kernelspec": {
   "display_name": "Python 3",
   "language": "python",
   "name": "python3"
  },
  "language_info": {
   "codemirror_mode": {
    "name": "ipython",
    "version": 3
   },
   "file_extension": ".py",
   "mimetype": "text/x-python",
   "name": "python",
   "nbconvert_exporter": "python",
   "pygments_lexer": "ipython3",
   "version": "3.13.3"
  }
 },
 "nbformat": 4,
 "nbformat_minor": 5
}
