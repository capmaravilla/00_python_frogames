{
 "cells": [
  {
   "cell_type": "code",
   "execution_count": 28,
   "id": "a7d6decb",
   "metadata": {},
   "outputs": [],
   "source": [
    "def bigger(a, b):\n",
    "    \"\"\"\n",
    "    Devuelve el numero mas alto\n",
    "    \"\"\"\n",
    "    if a >= b:\n",
    "        return a\n",
    "    return b\n",
    "\n",
    "\n",
    "def lower(a, b):\n",
    "    \"\"\"\n",
    "    Devuelve el numero mas bajo\n",
    "    \"\"\"\n",
    "    if a <= b:\n",
    "        return a\n",
    "    return b\n",
    "\n",
    "\n",
    "def mcd(a, b):\n",
    "    \"\"\"\n",
    "    Calcula el minimo comun divisor\n",
    "    \"\"\"\n",
    "    r = 0\n",
    "    max = bigger(a, b)\n",
    "    min = lower(a, b)\n",
    "    while min > 0:\n",
    "        r = min\n",
    "        min = max % min\n",
    "        max = r\n",
    "    return max\n",
    "\n",
    "\n",
    "class RationalNumber:\n",
    "\n",
    "    def __init__(self, n, d=1):\n",
    "        if type(n) is int and type(d) is int:\n",
    "            self.numerator = n\n",
    "            self.denominator = d\n",
    "        else:\n",
    "            print(\"El numerado y denominador deben de ser enteros\")\n",
    "\n",
    "    def __str__(self):  # Esto se muestra cuando hago un print a una instanacia\n",
    "        return f\"{self.numerator}/{self.denominator}\"\n",
    "\n",
    "    def __del__(self):  # Esto se muestra cuando borro una instanacia `del instancia`\n",
    "        # print(\"Destruyendo instancia...\")\n",
    "        pass\n",
    "\n",
    "    @property\n",
    "    def math_format(self):\n",
    "        from IPython.display import display, Latex\n",
    "\n",
    "        display(Latex(f\"${self.numerator}\\\\over{self.denominator}$\"))\n",
    "\n",
    "    @property\n",
    "    def quotient(self):\n",
    "        return self.numerator / self.denominator\n",
    "\n",
    "    def is_infinite(self):\n",
    "        return self.denominator == 0\n",
    "\n",
    "    def simplify(self):\n",
    "        div = mcd(self.numerator, self.denominator)\n",
    "        self.numerator = int(self.numerator / div)\n",
    "        self.denominator = int(self.denominator / div)\n",
    "\n",
    "    @classmethod\n",
    "    def random(cls):\n",
    "        import random\n",
    "\n",
    "        num = random.randrange(-100, 100)\n",
    "        den = random.randrange(-100, 100)\n",
    "        if den == 0:\n",
    "            num = random.randrange(-100, 100)\n",
    "            den = random.randrange(-100, 100)\n",
    "        return cls(num, den)\n",
    "\n",
    "    @classmethod\n",
    "    def zero(cls):\n",
    "        return cls(0)\n",
    "\n",
    "    @classmethod\n",
    "    def one(cls):\n",
    "        return cls(1)\n",
    "\n",
    "    @classmethod\n",
    "    def fromRealNumber(cls, f):\n",
    "        import math\n",
    "\n",
    "        n = f\n",
    "        d = 1\n",
    "        dec, _ = math.modf(n)\n",
    "        while dec != 0:\n",
    "            n *= 10\n",
    "            d *= 10\n",
    "            dec, _ = math.modf(n)\n",
    "        n = int(n)\n",
    "        d = int(d)\n",
    "        return cls(n, d)"
   ]
  },
  {
   "cell_type": "code",
   "execution_count": 32,
   "id": "9b3f369f",
   "metadata": {},
   "outputs": [
    {
     "data": {
      "text/latex": [
       "$-88\\over19$"
      ],
      "text/plain": [
       "<IPython.core.display.Latex object>"
      ]
     },
     "metadata": {},
     "output_type": "display_data"
    }
   ],
   "source": [
    "q = RationalNumber.random()\n",
    "q.math_format"
   ]
  },
  {
   "cell_type": "markdown",
   "id": "f2835269",
   "metadata": {},
   "source": []
  }
 ],
 "metadata": {
  "kernelspec": {
   "display_name": "Python 3",
   "language": "python",
   "name": "python3"
  },
  "language_info": {
   "codemirror_mode": {
    "name": "ipython",
    "version": 3
   },
   "file_extension": ".py",
   "mimetype": "text/x-python",
   "name": "python",
   "nbconvert_exporter": "python",
   "pygments_lexer": "ipython3",
   "version": "3.13.3"
  }
 },
 "nbformat": 4,
 "nbformat_minor": 5
}
