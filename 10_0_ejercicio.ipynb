{
 "cells": [
  {
   "cell_type": "code",
   "execution_count": null,
   "metadata": {},
   "outputs": [],
   "source": [
    "def VerticesSquare(P = [0, 0], l = 1):\n",
    "    vertices = []\n",
    "    vertices.append(P)\n",
    "    # Añade el segundo vértice\n",
    "    vertices.append([P[0] + l,P[1]])\n",
    "    # Añade el tercer vértice\n",
    "    vertices.append([P[0] + l,P[1] + l])\n",
    "    # Añade el cuarto vértice\n",
    "    vertices.append([P[0],P[1] + l])\n",
    "    return vertices\n",
    "\n",
    "VerticesSquare([3,3], 8)"
   ]
  }
 ],
 "metadata": {
  "kernelspec": {
   "display_name": "Python 3",
   "language": "python",
   "name": "python3"
  },
  "language_info": {
   "name": "python",
   "version": "3.13.1"
  }
 },
 "nbformat": 4,
 "nbformat_minor": 2
}
