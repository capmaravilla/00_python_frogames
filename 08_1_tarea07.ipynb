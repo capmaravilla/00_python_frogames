{
 "cells": [
  {
   "cell_type": "code",
   "execution_count": null,
   "metadata": {},
   "outputs": [
    {
     "name": "stdout",
     "output_type": "stream",
     "text": [
      "{1, 3, 5}\n"
     ]
    }
   ],
   "source": [
    "num = int(input(\"Número: \"))\n",
    "set1 = set()\n",
    "for i in range(1,num):\n",
    "    if num % i == 0:\n",
    "        set1.add(i)\n",
    "print(set1)"
   ]
  },
  {
   "cell_type": "code",
   "execution_count": 8,
   "metadata": {},
   "outputs": [
    {
     "name": "stdout",
     "output_type": "stream",
     "text": [
      "-7\n"
     ]
    }
   ],
   "source": [
    "set1 = {3,5,6,7,4,6,7,-3,-6,-7}\n",
    "min = 9999**10\n",
    "for i in set1:\n",
    "    if i < min:\n",
    "        min = i\n",
    "print(min)"
   ]
  },
  {
   "cell_type": "code",
   "execution_count": 15,
   "metadata": {},
   "outputs": [
    {
     "name": "stdout",
     "output_type": "stream",
     "text": [
      "{'vez', 'vida'}\n"
     ]
    }
   ],
   "source": [
    "s = str(input(\"Inserta la frase: \"))\n",
    "a = str(input(\"Letra: \"))\n",
    "set1 = set()\n",
    "l=s.lower().split(' ')\n",
    "for i in l:\n",
    "    if i[0] == a:\n",
    "        set1.add(i)\n",
    "print(set1)"
   ]
  },
  {
   "cell_type": "code",
   "execution_count": 30,
   "metadata": {},
   "outputs": [
    {
     "name": "stdout",
     "output_type": "stream",
     "text": [
      "El caracter con mayor valor ASCII es ñ con un valor de 241\n"
     ]
    }
   ],
   "source": [
    "set1 = {'a','k','G','3','n','{','ñ'}\n",
    "max = '!'\n",
    "for i in set1:\n",
    "    if ord(i) > ord(max):\n",
    "        max = i\n",
    "print(\"El caracter con mayor valor ASCII es {} con un valor de {}\".format(max,ord(max)))\n",
    "\n"
   ]
  },
  {
   "cell_type": "code",
   "execution_count": 57,
   "metadata": {},
   "outputs": [
    {
     "name": "stdout",
     "output_type": "stream",
     "text": [
      "El caracter con menor valor ASCII es 3 con un valor de 51\n"
     ]
    }
   ],
   "source": [
    "set1 = {'a','k','G','3','n','{','ñ'}\n",
    "min = '■'\n",
    "for i in set1:\n",
    "    if ord(i) < ord(min):\n",
    "        min = i\n",
    "print(\"El caracter con menor valor ASCII es {} con un valor de {}\".format(min,ord(min)))"
   ]
  },
  {
   "cell_type": "code",
   "execution_count": null,
   "metadata": {},
   "outputs": [],
   "source": []
  },
  {
   "cell_type": "code",
   "execution_count": 33,
   "metadata": {},
   "outputs": [
    {
     "name": "stdout",
     "output_type": "stream",
     "text": [
      "{'llevo', 'nos', 'horror'}\n"
     ]
    }
   ],
   "source": [
    "s = str(input(\"Inserta la frase: \"))\n",
    "a = str(input(\"Letra: \"))\n",
    "set1 = set()\n",
    "l=s.lower().split(' ')\n",
    "for i in l:\n",
    "    if a in i:\n",
    "        set1.add(i)\n",
    "print(set1)"
   ]
  },
  {
   "cell_type": "code",
   "execution_count": null,
   "metadata": {},
   "outputs": [
    {
     "name": "stdout",
     "output_type": "stream",
     "text": [
      "{'a', 'm', 'c'}\n"
     ]
    }
   ],
   "source": [
    "s = str(input('Inserta la frase: '))\n",
    "set1 = set()\n",
    "set1.add(s[0])\n",
    "idx = 0\n",
    "while idx != -1:\n",
    "    idx=s.find(' ', idx+1)\n",
    "    set1.add(s[idx+1])\n",
    "print(set1)"
   ]
  },
  {
   "cell_type": "code",
   "execution_count": 43,
   "metadata": {},
   "outputs": [
    {
     "name": "stdout",
     "output_type": "stream",
     "text": [
      "{'no', 'hola', 'la'}\n"
     ]
    }
   ],
   "source": [
    "s = str(input(\"Inserta la frase: \"))\n",
    "set1 = set()\n",
    "l=s.split(' ')\n",
    "for i in l:\n",
    "    if len(i) % 2 == 0:\n",
    "        set1.add(i)\n",
    "print(set1)"
   ]
  },
  {
   "cell_type": "code",
   "execution_count": null,
   "metadata": {},
   "outputs": [
    {
     "name": "stdout",
     "output_type": "stream",
     "text": [
      "{'va', 'hola', 'caracola'}\n"
     ]
    }
   ],
   "source": [
    "s = str(input(\"Inserta la frase: \"))\n",
    "a = str(input(\"Letra: \"))\n",
    "set1 = set()\n",
    "l=s.split(' ')\n",
    "for i in l:\n",
    "    if i[-1] == a:\n",
    "        set1.add(i)\n",
    "print(set1)"
   ]
  },
  {
   "cell_type": "code",
   "execution_count": 56,
   "metadata": {},
   "outputs": [
    {
     "name": "stdout",
     "output_type": "stream",
     "text": [
      "{'asa'}\n"
     ]
    }
   ],
   "source": [
    "s = str(input('Inserta la frase: '))\n",
    "set1 = set()\n",
    "l=s.split(' ')\n",
    "for i in l:\n",
    "    inv = ''\n",
    "    for j in i:\n",
    "        inv = j + inv\n",
    "    if i == inv:\n",
    "        set1.add(i)\n",
    "print(set1)"
   ]
  },
  {
   "cell_type": "code",
   "execution_count": null,
   "metadata": {},
   "outputs": [
    {
     "name": "stdout",
     "output_type": "stream",
     "text": [
      "{'otto'}\n"
     ]
    }
   ],
   "source": [
    "# ultimo ejercicio pero con la notación de slicing\n",
    "s = str(input('Inserta la frase: '))\n",
    "set1 = set()\n",
    "l=s.split(' ')\n",
    "for i in l:\n",
    "    if i == i[::-1]:\n",
    "        set1.add(i)\n",
    "print(set1)"
   ]
  }
 ],
 "metadata": {
  "kernelspec": {
   "display_name": "Python 3",
   "language": "python",
   "name": "python3"
  },
  "language_info": {
   "codemirror_mode": {
    "name": "ipython",
    "version": 3
   },
   "file_extension": ".py",
   "mimetype": "text/x-python",
   "name": "python",
   "nbconvert_exporter": "python",
   "pygments_lexer": "ipython3",
   "version": "3.13.1"
  }
 },
 "nbformat": 4,
 "nbformat_minor": 2
}
