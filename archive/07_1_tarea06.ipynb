{
 "cells": [
  {
   "cell_type": "code",
   "execution_count": 6,
   "metadata": {},
   "outputs": [
    {
     "name": "stdout",
     "output_type": "stream",
     "text": [
      "{1: 1, 2: 4, 3: 9, 4: 16, 5: 25}\n"
     ]
    }
   ],
   "source": [
    "dicc = {}\n",
    "a = int(input('Numero: '))\n",
    "for i in range(1,a+1):\n",
    "    dicc[i] = i**2\n",
    "print(dicc)\n"
   ]
  },
  {
   "cell_type": "code",
   "execution_count": 42,
   "metadata": {},
   "outputs": [
    {
     "name": "stdout",
     "output_type": "stream",
     "text": [
      "david tiene 34 años y su número de teléfono es 32334234\n"
     ]
    }
   ],
   "source": [
    "user = {\n",
    "    \"name\": str(input(\"Nombre: \")),\n",
    "    \"age\": int(input(\"Edad: \")),\n",
    "    \"tlf\": int(input(\"Telefono: \"))\n",
    "}\n",
    "\n",
    "print(\"{} tiene {} años y su número de teléfono es {}\".format(user[\"name\"],user[\"age\"],user[\"tlf\"]))"
   ]
  },
  {
   "cell_type": "code",
   "execution_count": 50,
   "metadata": {},
   "outputs": [
    {
     "name": "stdout",
     "output_type": "stream",
     "text": [
      "---------------\n",
      "patata      10\n",
      "arroz       20\n",
      ". . .     . . .\n",
      "Total       30\n",
      "---------------\n"
     ]
    }
   ],
   "source": [
    "cesta = {}\n",
    "seguir = True\n",
    "while seguir == True:\n",
    "    a = str(input(\"Ingrese producto: \"))\n",
    "    b = int(input(\"Ingrese precio: \"))\n",
    "    cesta[a] = b\n",
    "    c = str(input(\"Quiere continuar y/n: \"))\n",
    "    if c != \"y\":\n",
    "        seguir = False\n",
    "    else:\n",
    "        seguir = True\n",
    "print(\"---------------\")\n",
    "total = 0\n",
    "for key, value in cesta.items():\n",
    "    print(key, \" \" * (10 - len(key)), value)\n",
    "    total += value\n",
    "print(\". . .     . . .\")\n",
    "print(\"Total\",\" \" * 5, total)\n",
    "print(\"---------------\")"
   ]
  },
  {
   "cell_type": "code",
   "execution_count": 9,
   "metadata": {},
   "outputs": [
    {
     "name": "stdout",
     "output_type": "stream",
     "text": [
      "{'Positivos': 2, 'Negativos': 6}\n"
     ]
    }
   ],
   "source": [
    "a = int(input(\"Numero: \"))\n",
    "counter = {}\n",
    "neg = 0\n",
    "pos = 0\n",
    "while a != 0:\n",
    "    if a < 0:\n",
    "        neg += 1\n",
    "    else:\n",
    "        pos += 1\n",
    "    a = int(input(\"Numero: \"))\n",
    "counter[\"Positivos\"] = neg\n",
    "counter[\"Negativos\"] = pos\n",
    "print(counter)"
   ]
  },
  {
   "cell_type": "code",
   "execution_count": 26,
   "metadata": {},
   "outputs": [
    {
     "name": "stdout",
     "output_type": "stream",
     "text": [
      "{'Pares': 0, 'Impares': 0}\n"
     ]
    }
   ],
   "source": [
    "a = int(input(\"Numero: \"))\n",
    "counter = {}\n",
    "par = 0\n",
    "imp = 0\n",
    "while a != 0:\n",
    "    if a % 2:\n",
    "        neg += 1\n",
    "    else:\n",
    "        pos += 1\n",
    "    a = int(input(\"Numero: \"))\n",
    "counter[\"Pares\"] = par\n",
    "counter[\"Impares\"] = imp\n",
    "print(counter)"
   ]
  },
  {
   "cell_type": "code",
   "execution_count": 27,
   "metadata": {},
   "outputs": [
    {
     "name": "stdout",
     "output_type": "stream",
     "text": [
      "{'ajdlkñfj': 5.25, 'sadfdfas': 30.0}\n"
     ]
    }
   ],
   "source": [
    "clase = {}\n",
    "while a != '':\n",
    "    a = str(input(\"Nombre: \"))\n",
    "    if a == '':\n",
    "        break\n",
    "    cache = []\n",
    "    c = int(input(\"Nota: \"))\n",
    "    \n",
    "    while c != 0:\n",
    "        cache.append(c)\n",
    "        c = int(input(\"Nota: \"))\n",
    "\n",
    "    if len(cache) != 0:\n",
    "        b = sum(cache) / len(cache)\n",
    "    \n",
    "    clase[a] = b\n",
    "print(clase)"
   ]
  },
  {
   "cell_type": "code",
   "execution_count": 28,
   "metadata": {},
   "outputs": [
    {
     "name": "stdout",
     "output_type": "stream",
     "text": [
      "{1: '*', 2: '**', 3: '***', 4: '****', 5: '*****'}\n"
     ]
    }
   ],
   "source": [
    "dicc = {}\n",
    "a = int(input('Numero: '))\n",
    "for i in range(1,a+1):\n",
    "    dicc[i] = \"*\" * i\n",
    "print(dicc)\n"
   ]
  },
  {
   "cell_type": "code",
   "execution_count": 29,
   "metadata": {},
   "outputs": [
    {
     "name": "stdout",
     "output_type": "stream",
     "text": [
      "{'patata': 6, 'cosa': 4}\n"
     ]
    }
   ],
   "source": [
    "dicc = {}\n",
    "a = int(input('Numero: '))\n",
    "for i in range(a):\n",
    "    b = str(input(\"palabra: \"))\n",
    "    dicc[b] = len(b)\n",
    "print(dicc)"
   ]
  },
  {
   "cell_type": "code",
   "execution_count": 53,
   "metadata": {},
   "outputs": [
    {
     "name": "stdout",
     "output_type": "stream",
     "text": [
      "{'patata': 3, 'cosa': 2}\n"
     ]
    }
   ],
   "source": [
    "dicc = {}\n",
    "a = int(input('Numero: '))\n",
    "for i in range(a):\n",
    "    b = str(input(\"palabra: \"))\n",
    "    b = b.lower()\n",
    "    c = 0\n",
    "    for i in b:\n",
    "        if i == \"a\" or i == \"e\" or i == \"i\" or i == \"o\" or i == \"u\":\n",
    "            c += 1\n",
    "    dicc[b] = c\n",
    "print(dicc)"
   ]
  },
  {
   "cell_type": "code",
   "execution_count": 37,
   "metadata": {},
   "outputs": [
    {
     "name": "stdout",
     "output_type": "stream",
     "text": [
      "{'row_num': 3, 'col_num': 3, 'rows': {0: [1, 2, 3], 1: [4, 5, 6], 2: [7, 8, 9]}}\n"
     ]
    }
   ],
   "source": [
    "A = [\n",
    "    [1,2,3],\n",
    "    [4,5,6],\n",
    "    [7,8,9]\n",
    "    ]\n",
    "dicc = {}\n",
    "row_num = len(A)\n",
    "col_num = len(A[0])\n",
    "row_item = {}\n",
    "for i in range(row_num):\n",
    "    row_item[i] = A[i]\n",
    "\n",
    "dicc[\"row_num\"] = row_num\n",
    "dicc[\"col_num\"] = col_num\n",
    "dicc[\"rows\"] = row_item\n",
    "\n",
    "print(dicc)"
   ]
  }
 ],
 "metadata": {
  "kernelspec": {
   "display_name": "Python 3",
   "language": "python",
   "name": "python3"
  },
  "language_info": {
   "codemirror_mode": {
    "name": "ipython",
    "version": 3
   },
   "file_extension": ".py",
   "mimetype": "text/x-python",
   "name": "python",
   "nbconvert_exporter": "python",
   "pygments_lexer": "ipython3",
   "version": "3.13.1"
  }
 },
 "nbformat": 4,
 "nbformat_minor": 2
}
