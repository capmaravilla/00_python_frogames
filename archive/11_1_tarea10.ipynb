{
 "cells": [
  {
   "cell_type": "code",
   "execution_count": 2,
   "metadata": {},
   "outputs": [
    {
     "data": {
      "text/plain": [
       "24"
      ]
     },
     "execution_count": 2,
     "metadata": {},
     "output_type": "execute_result"
    }
   ],
   "source": [
    "lat_mult = lambda x: x * (x - 1) * (x + 1)\n",
    "lat_mult(3)"
   ]
  },
  {
   "cell_type": "code",
   "execution_count": 3,
   "metadata": {},
   "outputs": [
    {
     "data": {
      "text/plain": [
       "False"
      ]
     },
     "execution_count": 3,
     "metadata": {},
     "output_type": "execute_result"
    }
   ],
   "source": [
    "bigger_first = lambda x,y: x > y\n",
    "bigger_first(4,6)"
   ]
  },
  {
   "cell_type": "code",
   "execution_count": 8,
   "metadata": {},
   "outputs": [
    {
     "name": "stdout",
     "output_type": "stream",
     "text": [
      "['agua', 'eolico']\n"
     ]
    }
   ],
   "source": [
    "words = [\"reloj\", \"colmena\", \"agua\", \"eolico\"]\n",
    "def more_vowels(w):\n",
    "    w = w.lower()\n",
    "    counter_v = 0\n",
    "    vowels = [\"a\", \"e\", \"i\", \"o\", \"u\"]\n",
    "    for i in w:\n",
    "        if i in vowels:\n",
    "            counter_v += 1\n",
    "    counter_c = len(w) - counter_v\n",
    "    if counter_v > counter_c:\n",
    "        return True\n",
    "    return False\n",
    "\n",
    "vow_con = filter(more_vowels, words)\n",
    "print((list(vow_con)))"
   ]
  },
  {
   "cell_type": "code",
   "execution_count": 27,
   "metadata": {},
   "outputs": [
    {
     "name": "stdout",
     "output_type": "stream",
     "text": [
      "[80, 240] [80, 240]\n"
     ]
    }
   ],
   "source": [
    "nums = [3,8,12,45,67,80,240]\n",
    "\n",
    "def divisores(n):\n",
    "    divs = 0\n",
    "    for i in range(1,n):\n",
    "        if n % i == 0:\n",
    "            divs += 1\n",
    "    return divs\n",
    "\n",
    "def divisores2(n):\n",
    "    divs = 0\n",
    "    for i in range(1,n):\n",
    "        if n % i == 0:\n",
    "            divs += 1\n",
    "    return divs > 5\n",
    "\n",
    "more_5div = filter(lambda x: divisores(x) > 5, nums)\n",
    "\n",
    "more_5div2 = filter(divisores2, nums)\n",
    "\n",
    "print(list(more_5div), list(more_5div2))\n"
   ]
  },
  {
   "cell_type": "code",
   "execution_count": 31,
   "metadata": {},
   "outputs": [
    {
     "name": "stdout",
     "output_type": "stream",
     "text": [
      "colmena\n"
     ]
    }
   ],
   "source": [
    "from functools import reduce\n",
    "words = [\"reloj\", \"colmena\", \"agua\", \"eolico\", \"ajo\", \"sal\"]\n",
    "\n",
    "def more_len(w1,w2):\n",
    "    if len(w1) > len(w2):\n",
    "        return w1\n",
    "    return w2\n",
    "\n",
    "longest = reduce(more_len, words)\n",
    "print(longest)"
   ]
  },
  {
   "cell_type": "code",
   "execution_count": 37,
   "metadata": {},
   "outputs": [
    {
     "name": "stdout",
     "output_type": "stream",
     "text": [
      "[2, 3, 3, 4, 2, 1]\n"
     ]
    }
   ],
   "source": [
    "words = [\"reloj\", \"colmena\", \"agua\", \"eolico\", \"ajo\", \"sal\"]\n",
    "\n",
    "def vowels_count(w):\n",
    "    w = w.lower()\n",
    "    vowels = [\"a\", \"e\", \"i\", \"o\", \"u\"]\n",
    "    vw = 0\n",
    "    for i in w:\n",
    "        if i in vowels:\n",
    "            vw += 1\n",
    "    return vw\n",
    "\n",
    "vowels_list= map(vowels_count, words)\n",
    "print(list(vowels_list))"
   ]
  },
  {
   "cell_type": "code",
   "execution_count": 41,
   "metadata": {},
   "outputs": [
    {
     "name": "stdout",
     "output_type": "stream",
     "text": [
      "[3, 4, 1, 2, 1, 2]\n",
      "colmena\n"
     ]
    }
   ],
   "source": [
    "from functools import reduce\n",
    "\n",
    "words = [\"reloj\", \"colmena\", \"agua\", \"eolico\", \"ajo\", \"sal\"]\n",
    "\n",
    "def c_count(w):\n",
    "    w = w.lower()\n",
    "    vowels = [\"a\", \"e\", \"i\", \"o\", \"u\"]\n",
    "    counter = 0\n",
    "    for i in w:\n",
    "        if i not in vowels:\n",
    "            counter += 1\n",
    "    return counter\n",
    "\n",
    "def more_c(w1,w2):\n",
    "    if c_count(w1) > c_count(w2):\n",
    "        return w1\n",
    "    return w2\n",
    "\n",
    "more_consonants = reduce(more_c,words)\n",
    "print(more_consonants)"
   ]
  },
  {
   "cell_type": "code",
   "execution_count": 42,
   "metadata": {},
   "outputs": [
    {
     "name": "stdout",
     "output_type": "stream",
     "text": [
      "[1, 6, 53, 5, 8, 76]\n"
     ]
    }
   ],
   "source": [
    "nums = [2,7,54,6,9,77]\n",
    "ant_nums = list(map(lambda x: x-1, nums))\n",
    "print(ant_nums)"
   ]
  },
  {
   "cell_type": "code",
   "execution_count": 48,
   "metadata": {},
   "outputs": [
    {
     "name": "stdout",
     "output_type": "stream",
     "text": [
      "[1, 2, -6, 7, 9, 11, 54, -77]\n"
     ]
    }
   ],
   "source": [
    "nums = [1,2,7,54,11,-6,9,-77]\n",
    "num_order = sorted(nums, key = abs)\n",
    "print(num_order)"
   ]
  },
  {
   "cell_type": "code",
   "execution_count": 49,
   "metadata": {},
   "outputs": [
    {
     "name": "stdout",
     "output_type": "stream",
     "text": [
      "['colmena', 'reloj', 'eolico', 'sal', 'agua', 'ajo']\n"
     ]
    }
   ],
   "source": [
    "words = [\"reloj\", \"colmena\", \"agua\", \"eolico\", \"ajo\", \"sal\"]\n",
    "\n",
    "def c_count(w):\n",
    "    w = w.lower()\n",
    "    vowels = [\"a\", \"e\", \"i\", \"o\", \"u\"]\n",
    "    counter = 0\n",
    "    for i in w:\n",
    "        if i not in vowels:\n",
    "            counter += 1\n",
    "    return counter\n",
    "\n",
    "word_order = sorted(words, key = c_count, reverse = True)\n",
    "print(word_order)"
   ]
  },
  {
   "cell_type": "code",
   "execution_count": null,
   "metadata": {},
   "outputs": [],
   "source": []
  }
 ],
 "metadata": {
  "kernelspec": {
   "display_name": "Python 3",
   "language": "python",
   "name": "python3"
  },
  "language_info": {
   "codemirror_mode": {
    "name": "ipython",
    "version": 3
   },
   "file_extension": ".py",
   "mimetype": "text/x-python",
   "name": "python",
   "nbconvert_exporter": "python",
   "pygments_lexer": "ipython3",
   "version": "3.13.1"
  }
 },
 "nbformat": 4,
 "nbformat_minor": 2
}
