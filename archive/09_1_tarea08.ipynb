{
 "cells": [
  {
   "cell_type": "code",
   "execution_count": 3,
   "metadata": {},
   "outputs": [
    {
     "name": "stdout",
     "output_type": "stream",
     "text": [
      "(6, 'Par')\n",
      "(7, 'Impar')\n",
      "(8, 'Par')\n"
     ]
    }
   ],
   "source": [
    "n = int(input(\"Cantidad: \"))\n",
    "for i in range(n):\n",
    "    num = int(input(\"Número: \"))\n",
    "    np = ''\n",
    "    if num % 2 == 0:\n",
    "        np = 'Par'\n",
    "    else:\n",
    "        np = 'Impar'\n",
    "    print((num, np))\n"
   ]
  },
  {
   "cell_type": "code",
   "execution_count": 49,
   "metadata": {},
   "outputs": [
    {
     "name": "stdout",
     "output_type": "stream",
     "text": [
      "El año 1976 corresponde a Dragón\n"
     ]
    }
   ],
   "source": [
    "animales = [\n",
    "        \"Mono\", \"Gallo\", \"Perro\", \"Cerdo\", \"Rata\", \"Buey\", \"Tigre\", \"Conejo\", \"Dragón\", \"Serpiente\", \"Caballo\", \"Cabra\" \n",
    "    ]\n",
    "ano = int(input(\"Año: \"))\n",
    "idx = ano % 12\n",
    "print('El año {} corresponde a {}'.format(ano,animales[idx]))\n"
   ]
  },
  {
   "cell_type": "code",
   "execution_count": 18,
   "metadata": {},
   "outputs": [
    {
     "name": "stdout",
     "output_type": "stream",
     "text": [
      "['Hola', 'que', 'tal']\n",
      "[('Hola', 4, 'H', 0), ('que', 3, 'q', 1), ('tal', 3, 't', 2)]\n"
     ]
    }
   ],
   "source": [
    "s = str(input(\"Frase: \"))\n",
    "s2 = s.split(' ')\n",
    "print(s2)\n",
    "l = []\n",
    "idx = 0\n",
    "for i in s2:\n",
    "    word = i\n",
    "    lw = len(i)\n",
    "    iw = i[0]\n",
    "    l.append((word,lw,iw,idx))\n",
    "    idx += 1\n",
    "print(l)"
   ]
  },
  {
   "cell_type": "code",
   "execution_count": 21,
   "metadata": {},
   "outputs": [
    {
     "name": "stdout",
     "output_type": "stream",
     "text": [
      "casa\n",
      "cielo\n"
     ]
    }
   ],
   "source": [
    "l=[]\n",
    "s = str(input(\"Palabra: \"))\n",
    "while s != '':\n",
    "    l.append(s)\n",
    "    s = str(input(\"Palabra: \"))\n",
    "t = tuple(l)\n",
    "(el1, *_, el2) = t\n",
    "print(el1)\n",
    "print(el2)"
   ]
  },
  {
   "cell_type": "code",
   "execution_count": null,
   "metadata": {},
   "outputs": [
    {
     "name": "stdout",
     "output_type": "stream",
     "text": [
      "{'casa': 4, 'avion': 5, 'amigo': 5, 'rata': 4}\n"
     ]
    }
   ],
   "source": [
    "words = [\"casa\", \"avion\", \"amigo\", \"rata\"]\n",
    "words_len = []\n",
    "for i in words:\n",
    "    words_len.append(len(i))\n",
    "items = zip(words, words_len)\n",
    "dicc = dict(items)\n",
    "print(dicc)"
   ]
  },
  {
   "cell_type": "code",
   "execution_count": 24,
   "metadata": {},
   "outputs": [
    {
     "name": "stdout",
     "output_type": "stream",
     "text": [
      "La tupla es ('coche', 'avion', 'amigo')\n",
      "El numero total de caractes es 15\n"
     ]
    }
   ],
   "source": [
    "l=[]\n",
    "s = str(input(\"Palabra: \"))\n",
    "count = 0\n",
    "while s != '':\n",
    "    l.append(s)\n",
    "    count+= len(s)\n",
    "    s = str(input(\"Palabra: \"))\n",
    "t = tuple(l)\n",
    "print(\"La tupla es {}\".format(t))\n",
    "print(\"El numero total de caractes es {}\".format(count))"
   ]
  },
  {
   "cell_type": "code",
   "execution_count": null,
   "metadata": {},
   "outputs": [],
   "source": [
    "l = [1,2,3,4,5,6,7,8,9,10,11,12,13,14,15,16,17,18,19,20]\n",
    "elementos = []\n",
    "\n",
    "for i in l:\n",
    "    elementos.append((i,l))\n",
    "\n",
    "for el in elementos:\n",
    "    for j in el[1]:\n",
    "        print(\"{} x {} = {}\".format(el[0],j,el[0]*j))"
   ]
  },
  {
   "cell_type": "code",
   "execution_count": null,
   "metadata": {},
   "outputs": [
    {
     "name": "stdout",
     "output_type": "stream",
     "text": [
      "[(6, 2, 3, 0)]\n"
     ]
    }
   ],
   "source": [
    "a = int(input(\"Número: \"))\n",
    "b = int(input(\"Número: \"))\n",
    "l = []\n",
    "if a > b:\n",
    "    coc = a // b\n",
    "    res = a % b\n",
    "    l.append((a,b,coc,res))\n",
    "else:\n",
    "    print('El primer numero a de ser mayor')\n",
    "print(l)"
   ]
  },
  {
   "cell_type": "code",
   "execution_count": 41,
   "metadata": {},
   "outputs": [
    {
     "name": "stdout",
     "output_type": "stream",
     "text": [
      "[(45, 0.7853981633974483), (90, 1.5707963267948966), (360, 6.283185307179586)]\n"
     ]
    }
   ],
   "source": [
    "pi = 3.141592653589793\n",
    "n = int(input(\"Cantidad: \"))\n",
    "l = []\n",
    "for i in range(n):\n",
    "    a = int(input(\"Número entre 0 y 360: \"))\n",
    "    b = (a * 2 * pi) / 360\n",
    "    l.append((a, b))\n",
    "print(l)"
   ]
  },
  {
   "cell_type": "code",
   "execution_count": 50,
   "metadata": {},
   "outputs": [
    {
     "name": "stdout",
     "output_type": "stream",
     "text": [
      "((3+4j), (-3-4j), (3-4j))\n"
     ]
    }
   ],
   "source": [
    "a = complex(input(\"Inserta numeros complejos: \"))\n",
    "print((a, -a, a.conjugate()))"
   ]
  }
 ],
 "metadata": {
  "kernelspec": {
   "display_name": "Python 3",
   "language": "python",
   "name": "python3"
  },
  "language_info": {
   "codemirror_mode": {
    "name": "ipython",
    "version": 3
   },
   "file_extension": ".py",
   "mimetype": "text/x-python",
   "name": "python",
   "nbconvert_exporter": "python",
   "pygments_lexer": "ipython3",
   "version": "3.13.1"
  }
 },
 "nbformat": 4,
 "nbformat_minor": 2
}
