{
 "cells": [
  {
   "cell_type": "code",
   "execution_count": 52,
   "metadata": {},
   "outputs": [
    {
     "name": "stdout",
     "output_type": "stream",
     "text": [
      "30\n"
     ]
    }
   ],
   "source": [
    "hits = {\n",
    "    \"brazaleteD\": 8,\n",
    "    \"brazaleteI\": 8,\n",
    "    \"cinturon\": 14\n",
    "}\n",
    "\n",
    "from functools import reduce\n",
    "\n",
    "total_hits = reduce(lambda x,y: x + y, hits.values())\n",
    "print(total_hits)\n"
   ]
  },
  {
   "cell_type": "code",
   "execution_count": 62,
   "metadata": {},
   "outputs": [
    {
     "name": "stdout",
     "output_type": "stream",
     "text": [
      "Pyratilla ha atacado al brazaleteD 🔥\n",
      "Pyratilla ha atacado al brazaleteD 🔥\n",
      "¡Oh, no! ¡Pyratilla ha fallado! ❌\n",
      "Pyratilla ha atacado al brazaleteD 🔥\n",
      "Pyratilla ha atacado al brazaleteD 🔥\n",
      "¡Un segundo! ¡Hay que recargar los 5 cañones! 🕛\n",
      "¡Oh, no! ¡Pyratilla ha fallado! ❌\n",
      "¡Oh, no! ¡Pyratilla ha fallado! ❌\n",
      "Pyratilla ha atacado al brazaleteD 🔥\n",
      "Pyratilla ha atacado al brazaleteD 🔥\n",
      "Pyratilla ha atacado al brazaleteD 🔥\n",
      "¡Un segundo! ¡Hay que recargar los 5 cañones! 🕛\n",
      "Pyratilla ha atacado al brazaleteD 🔥\n",
      "¡El brazaleteD ha sido eliminado! 💀\n",
      "¡Oh, no! ¡Pyratilla ha fallado! ❌\n",
      "¡Oh, no! ¡Pyratilla ha fallado! ❌\n",
      "¡Oh, no! ¡Pyratilla ha fallado! ❌\n",
      "¡Oh, no! ¡Pyratilla ha fallado! ❌\n",
      "¡Un segundo! ¡Hay que recargar los 5 cañones! 🕛\n",
      "¡Oh, no! ¡Pyratilla ha fallado! ❌\n",
      "Pyratilla ha atacado al brazaleteI 🔥\n",
      "Pyratilla ha atacado al brazaleteI 🔥\n",
      "Pyratilla ha atacado al brazaleteI 🔥\n",
      "¡Oh, no! ¡Pyratilla ha fallado! ❌\n",
      "¡Un segundo! ¡Hay que recargar los 5 cañones! 🕛\n",
      "Pyratilla ha atacado al brazaleteI 🔥\n",
      "Pyratilla ha atacado al brazaleteI 🔥\n",
      "¡Oh, no! ¡Pyratilla ha fallado! ❌\n",
      "¡Oh, no! ¡Pyratilla ha fallado! ❌\n",
      "¡Oh, no! ¡Pyratilla ha fallado! ❌\n",
      "¡Un segundo! ¡Hay que recargar los 5 cañones! 🕛\n",
      "¡Oh, no! ¡Pyratilla ha fallado! ❌\n",
      "Pyratilla ha atacado al brazaleteI 🔥\n",
      "Pyratilla ha atacado al brazaleteI 🔥\n",
      "Pyratilla ha atacado al brazaleteI 🔥\n",
      "¡El brazaleteI ha sido eliminado! 💀\n",
      "Pyratilla ha atacado al cinturon 🔥\n",
      "¡Un segundo! ¡Hay que recargar los 5 cañones! 🕛\n",
      "Pyratilla ha atacado al cinturon 🔥\n",
      "Pyratilla ha atacado al cinturon 🔥\n",
      "¡Oh, no! ¡Pyratilla ha fallado! ❌\n",
      "¡Oh, no! ¡Pyratilla ha fallado! ❌\n",
      "¡Oh, no! ¡Pyratilla ha fallado! ❌\n",
      "¡Un segundo! ¡Hay que recargar los 5 cañones! 🕛\n",
      "¡Oh, no! ¡Pyratilla ha fallado! ❌\n",
      "¡Oh, no! ¡Pyratilla ha fallado! ❌\n",
      "Pyratilla ha atacado al cinturon 🔥\n",
      "Pyratilla ha atacado al cinturon 🔥\n",
      "¡Oh, no! ¡Pyratilla ha fallado! ❌\n",
      "¡Un segundo! ¡Hay que recargar los 5 cañones! 🕛\n",
      "¡Oh, no! ¡Pyratilla ha fallado! ❌\n",
      "¡Oh, no! ¡Pyratilla ha fallado! ❌\n",
      "Pyratilla ha atacado al cinturon 🔥\n",
      "¡Oh, no! ¡Pyratilla ha fallado! ❌\n",
      "¡Oh, no! ¡Pyratilla ha fallado! ❌\n",
      "¡Un segundo! ¡Hay que recargar los 5 cañones! 🕛\n",
      "Pyratilla ha atacado al cinturon 🔥\n",
      "Pyratilla ha atacado al cinturon 🔥\n",
      "Pyratilla ha atacado al cinturon 🔥\n",
      "¡Oh, no! ¡Pyratilla ha fallado! ❌\n",
      "Pyratilla ha atacado al cinturon 🔥\n",
      "¡Un segundo! ¡Hay que recargar los 5 cañones! 🕛\n",
      "¡Oh, no! ¡Pyratilla ha fallado! ❌\n",
      "Pyratilla ha atacado al cinturon 🔥\n",
      "¡Oh, no! ¡Pyratilla ha fallado! ❌\n",
      "¡Oh, no! ¡Pyratilla ha fallado! ❌\n",
      "¡Oh, no! ¡Pyratilla ha fallado! ❌\n",
      "¡Un segundo! ¡Hay que recargar los 5 cañones! 🕛\n",
      "¡Oh, no! ¡Pyratilla ha fallado! ❌\n",
      "¡Oh, no! ¡Pyratilla ha fallado! ❌\n",
      "Pyratilla ha atacado al cinturon 🔥\n",
      "Pyratilla ha atacado al cinturon 🔥\n",
      "¡Oh, no! ¡Pyratilla ha fallado! ❌\n",
      "¡Un segundo! ¡Hay que recargar los 5 cañones! 🕛\n",
      "¡Oh, no! ¡Pyratilla ha fallado! ❌\n",
      "Pyratilla ha atacado al cinturon 🔥\n",
      "¡El cinturon ha sido eliminado! 💀\n",
      "¡¡¡El Valrock ha sido eliminado!!! Hemos tirado 62 cañonazos\n"
     ]
    }
   ],
   "source": [
    "def attack (target):\n",
    "    print(\"Pyratilla ha atacado al {} 🔥\".format(target))\n",
    "\n",
    "from numpy import random\n",
    "\n",
    "hits_count = 0 \n",
    "for i, j in hits.items():\n",
    "    while j > 0:\n",
    "        if hits_count > 0 and hits_count % 5 == 0:\n",
    "            print(\"¡Un segundo! ¡Hay que recargar los 5 cañones! 🕛\")\n",
    "        hit= random.randint(2)\n",
    "        hits_count += 1\n",
    "        if hit == 0:\n",
    "            print(\"¡Oh, no! ¡Pyratilla ha fallado! ❌\")\n",
    "        else:\n",
    "            attack(i)\n",
    "            j -= 1\n",
    "    print(\"¡El {} ha sido eliminado! 💀\".format(i))\n",
    "print(\"¡¡¡El Valrock ha sido eliminado!!! Hemos tirado {} cañonazos\".format(hits_count))\n",
    "\n",
    "    "
   ]
  },
  {
   "cell_type": "code",
   "execution_count": 7,
   "metadata": {},
   "outputs": [
    {
     "name": "stdout",
     "output_type": "stream",
     "text": [
      "Fin del juego\n",
      "Palabras jugadas ['hola', 'alfanumerico', 'otorrino', 'orquesta', 'amigo']\n"
     ]
    }
   ],
   "source": [
    "played_words = []\n",
    "\n",
    "def valid_option(w1,w2):\n",
    "    w1 = w1.lower()\n",
    "    w2 = w2.lower()\n",
    "    if w1[-1] == w2[0] and w2 is not played_words:\n",
    "        return True\n",
    "    return False\n",
    "\n",
    "def palabras_encadenadas():\n",
    "    valid = True\n",
    "    w1 = str(input(\"Inserta palabra: \"))\n",
    "    played_words.append(w1)\n",
    "    while valid == True:\n",
    "        w2 = str(input(\"Inserta palabra: \"))\n",
    "        played_words.append(w2)\n",
    "        valid = valid_option(w1,w2)\n",
    "        w1 = w2\n",
    "    played_words.pop()\n",
    "    print(\"Fin del juego\\nPalabras jugadas\", played_words)\n",
    "\n",
    "palabras_encadenadas()\n"
   ]
  },
  {
   "cell_type": "code",
   "execution_count": 9,
   "metadata": {},
   "outputs": [
    {
     "name": "stdout",
     "output_type": "stream",
     "text": [
      "['alfanumerico', 'otorrino', 'orquesta']\n"
     ]
    }
   ],
   "source": [
    "more_than_7 = list(filter(lambda x: len(x) > 7, played_words))\n",
    "print(more_than_7)"
   ]
  }
 ],
 "metadata": {
  "kernelspec": {
   "display_name": "Python 3",
   "language": "python",
   "name": "python3"
  },
  "language_info": {
   "codemirror_mode": {
    "name": "ipython",
    "version": 3
   },
   "file_extension": ".py",
   "mimetype": "text/x-python",
   "name": "python",
   "nbconvert_exporter": "python",
   "pygments_lexer": "ipython3",
   "version": "3.13.1"
  }
 },
 "nbformat": 4,
 "nbformat_minor": 2
}
