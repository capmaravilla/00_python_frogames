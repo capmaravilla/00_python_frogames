{
 "cells": [
  {
   "cell_type": "code",
   "execution_count": 9,
   "metadata": {},
   "outputs": [
    {
     "name": "stdout",
     "output_type": "stream",
     "text": [
      "['a', 'i', 'c', 'n', 'e', 'u', 'c', 'e', 's', ' ', 'a', 'l', ' ', 's', 'e', ' ', 'a', 't', 's', 'E']\n"
     ]
    }
   ],
   "source": [
    "s = \"Esta es la secuencia\"\n",
    "l = []\n",
    "for i in s:\n",
    "    l.append(i)\n",
    "l.reverse()\n",
    "print(l)\n"
   ]
  },
  {
   "cell_type": "code",
   "execution_count": null,
   "metadata": {},
   "outputs": [
    {
     "name": "stdout",
     "output_type": "stream",
     "text": [
      "['h', 'a', 'o', 'd', 'l', 'i', 'a', 'o', ' ', 's', 'c', ' ', 'a', 'm', 'r', 'a', 'a', 'r', 'c', 'i', 'o', 'e', 'l', 't', 'a', 'a']\n"
     ]
    }
   ],
   "source": [
    "s1 = \"hola caracola\"\n",
    "s2 = \"adios marieta\"\n",
    "l = []\n",
    "\n",
    "for i in range(len(s1)):\n",
    "    l.append(s1[i])\n",
    "    l.append(s2[i])\n",
    "      \n",
    "print(l)"
   ]
  },
  {
   "cell_type": "code",
   "execution_count": 27,
   "metadata": {},
   "outputs": [
    {
     "name": "stdout",
     "output_type": "stream",
     "text": [
      "['m', 'r', 'c', 'l', 'g']\n"
     ]
    }
   ],
   "source": [
    "s1 = \"murcielago\"\n",
    "l = []\n",
    "s1.lower()\n",
    "for i in s1:\n",
    "    if i != \"a\" and i != \"e\" and i != \"i\" and i != \"o\" and i != \"u\":\n",
    "        l.append(i)\n",
    "\n",
    "print(l)   \n"
   ]
  },
  {
   "cell_type": "code",
   "execution_count": 62,
   "metadata": {},
   "outputs": [
    {
     "name": "stdout",
     "output_type": "stream",
     "text": [
      "No es un palindromo\n"
     ]
    }
   ],
   "source": [
    "s = \"zorra arro1\"\n",
    "l = []\n",
    "l_inv = []\n",
    "\n",
    "for i in range(len(s)):\n",
    "    l.append(s[i])\n",
    "    l_inv.append(s[len(s)-1-i])\n",
    "\n",
    "if l == l_inv:\n",
    "    print(\"Es un palindromo\")\n",
    "else:\n",
    "    print(\"No es un palindromo\")\n"
   ]
  },
  {
   "cell_type": "code",
   "execution_count": 71,
   "metadata": {},
   "outputs": [
    {
     "name": "stdout",
     "output_type": "stream",
     "text": [
      "[3, 6, 9]\n"
     ]
    }
   ],
   "source": [
    "m = [[1,2,3],[4,5,6],[7,8,9]]\n",
    "max = [0,0,0]\n",
    "for i in range(3):\n",
    "    for j in range(3):\n",
    "        if max[i] < m[i][j]:\n",
    "            max[i] = m[i][j]  \n",
    "        else:\n",
    "            max[i]\n",
    "print(max)"
   ]
  },
  {
   "cell_type": "code",
   "execution_count": 74,
   "metadata": {},
   "outputs": [
    {
     "name": "stdout",
     "output_type": "stream",
     "text": [
      "[[ 0.  1.  2.  3.]\n",
      " [ 4.  5.  6.  7.]\n",
      " [ 8.  9. 10. 11.]\n",
      " [12. 13. 14. 15.]]\n"
     ]
    }
   ],
   "source": [
    "import numpy as np\n",
    "n = int(input(\"Inserta n: \"))\n",
    "A = np.zeros((n,n))\n",
    "val = 0\n",
    "for i in range(n):\n",
    "    for j in range(n):\n",
    "        A[i][j] = val\n",
    "        val+=1\n",
    "print(A)"
   ]
  },
  {
   "cell_type": "code",
   "execution_count": null,
   "metadata": {},
   "outputs": [
    {
     "name": "stdout",
     "output_type": "stream",
     "text": [
      "[0. 0.]\n",
      "[4. 6.]\n"
     ]
    }
   ],
   "source": [
    "import numpy as np\n",
    "n = int(input(\"Inserta n: \"))\n",
    "m = int(input(\"Inserta n: \"))\n",
    "A = np.zeros((n,m))\n",
    "\n",
    "for i in range(n):\n",
    "    for j in range(m):\n",
    "        A[i][j] = int(input(\"valor\"))\n",
    "\n",
    "col_sum = np.zeros(m)\n",
    "print(col_sum)\n",
    "for i in range(m):\n",
    "    for j in range(n):\n",
    "        col_sum[i] += A[j][i]\n",
    "\n",
    "print(col_sum)\n",
    "\n",
    "\n",
    "        \n",
    "\n"
   ]
  },
  {
   "cell_type": "code",
   "execution_count": 168,
   "metadata": {},
   "outputs": [
    {
     "name": "stdout",
     "output_type": "stream",
     "text": [
      "Es la matriz identidad\n"
     ]
    }
   ],
   "source": [
    "import numpy as np\n",
    "n = int(input(\"Inserta dimension: \"))\n",
    "A = np.zeros((n,n))\n",
    "\n",
    "for i in range(n):\n",
    "    for j in range(n):\n",
    "        A[i][j] = int(input(\"valor\"))\n",
    "\n",
    "B = np.eye((n))\n",
    "\n",
    "print(\"Es la matriz identidad\") if np.array_equal(A, B) else print(\"No es la matriz identidad\")"
   ]
  },
  {
   "cell_type": "code",
   "execution_count": null,
   "metadata": {},
   "outputs": [
    {
     "name": "stdout",
     "output_type": "stream",
     "text": [
      "[[1. 2. 3.]\n",
      " [4. 5. 6.]]\n",
      "\n",
      "[[1. 4.]\n",
      " [2. 5.]\n",
      " [3. 6.]]\n"
     ]
    }
   ],
   "source": [
    "import numpy as np\n",
    "n = int(input(\"Inserta filas: \"))\n",
    "m = int(input(\"Inserta Columnas: \"))\n",
    "A = np.zeros((n,m))\n",
    "\n",
    "for i in range(n):\n",
    "    for j in range(m):\n",
    "        A[i][j] = int(input(\"valor\"))\n",
    "\n",
    "A_T = A.T\n",
    "\n",
    "print(A)\n",
    "print('')\n",
    "print(A_T)\n"
   ]
  },
  {
   "cell_type": "code",
   "execution_count": null,
   "metadata": {},
   "outputs": [
    {
     "name": "stdout",
     "output_type": "stream",
     "text": [
      "[[1. 0. 0. 0.]\n",
      " [0. 1. 0. 0.]\n",
      " [0. 0. 1. 0.]\n",
      " [0. 0. 0. 1.]]\n"
     ]
    }
   ],
   "source": [
    "import numpy as np\n",
    "n = int(input(\"Inserta dimension: \"))\n",
    "A = np.eye((n))\n",
    "\n",
    "print(A)"
   ]
  },
  {
   "cell_type": "code",
   "execution_count": null,
   "metadata": {},
   "outputs": [
    {
     "name": "stdout",
     "output_type": "stream",
     "text": [
      "['Botella ron', 'Botella ron', 'Botella ron', 'Botella ron', 'Botella ron', 'Botella ron', 'Botella ron', 'Botella ron', 'Botella ron', 'Botella ron', 'Botella ron', 'Botella ron', 'Botella ron', 'Botella ron', 'Botella ron', 'Botella ron', 'Botella ron', 'Botella ron', 'Botella ron', 'Botella ron', 'Botella ron', 'Botella ron', 'Botella ron', 'Botella ron', 'Botella ron', 'Botella ron', 'Botella ron', 'Botella ron', 'Botella ron', 'Botella ron', 'Hamburguesas', 'Hamburguesas', 'Hamburguesas', 'Hamburguesas', 'Hamburguesas', 'Hamburguesas', 'Tomates', 'Tomates', 'Tomates', 'Queso', 'ketchup', 'Mostaza']\n",
      "30 de Botella ron\n",
      "6 de Hamburguesas\n",
      "3 de Tomates\n",
      "1 de Queso\n",
      "1 de ketchup\n",
      "1 de Mostaza\n"
     ]
    }
   ],
   "source": [
    "shopping_list = []\n",
    "shopping_list = [\"Botella ron\"]*30\n",
    "shopping_list.extend([\"Hamburguesas\"]*6)\n",
    "shopping_list.extend([\"Tomates\"]*3)\n",
    "shopping_list.extend([\"Queso\",\"ketchup\",\"Mostaza\"])\n",
    "\n",
    "print(shopping_list)\n",
    "\n",
    "counted = []\n",
    "for item in shopping_list:\n",
    "    if item not in counted:\n",
    "        counted.append(item)\n",
    "        print(\"{} de {}\".format(shopping_list.count(item), item))\n"
   ]
  }
 ],
 "metadata": {
  "kernelspec": {
   "display_name": "Python 3",
   "language": "python",
   "name": "python3"
  },
  "language_info": {
   "codemirror_mode": {
    "name": "ipython",
    "version": 3
   },
   "file_extension": ".py",
   "mimetype": "text/x-python",
   "name": "python",
   "nbconvert_exporter": "python",
   "pygments_lexer": "ipython3",
   "version": "3.13.1"
  }
 },
 "nbformat": 4,
 "nbformat_minor": 2
}
