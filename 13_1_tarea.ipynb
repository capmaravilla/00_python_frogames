{
 "cells": [
  {
   "cell_type": "markdown",
   "id": "5af3c548",
   "metadata": {},
   "source": [
    "Ejercicio 1\n",
    "\n",
    "A lo largo de toda esta taraea vas a construir la clase `Date`. Empieza con el constructor, que recibe por\n",
    "parámetros el día (`day`), mes (`month`) y año (`year`). Los 3 parámetros son de tipo `int` y por defecto todos\n",
    "valen 1.\n"
   ]
  },
  {
   "cell_type": "code",
   "execution_count": 2,
   "id": "ddd5d87f",
   "metadata": {},
   "outputs": [],
   "source": [
    "class Date:\n",
    "    def __init__(self, day=1, month=1, year=1):\n",
    "        self.day = day\n",
    "        self.month = month\n",
    "        self.year = year"
   ]
  },
  {
   "cell_type": "markdown",
   "id": "92fc8532",
   "metadata": {},
   "source": [
    "Ejercicio 2\n",
    "\n",
    "Conﬁgura el método `.__str__()` para que muestre la fecha en formato `day / month / year`. \n",
    "\n",
    "Si el valor del día o el mes son menores a 10, mostrar el valor con un 0 delante. \n",
    "\n",
    "Por ejemplo, si `day = 8`, `month = 7` y `year = 1998`, entonces se debería mostrar `08 / 07 / 1998`.\n",
    "\n",
    "En el caso del año, si el año es menor a 1000, mostrar con un cero delante; si es menor a 100, mostrar con 2\n",
    "ceros delante; y si es menor a 10, mostrar con 3 ceros delante.\n",
    "\n",
    "PISTA: Puedes crear una función que dado un número entero y el número de cifras que debe tener, rellene\n",
    "con ceros a la izquierda hasta completar el número de cifras indicado."
   ]
  },
  {
   "cell_type": "code",
   "execution_count": null,
   "id": "86858b1c",
   "metadata": {},
   "outputs": [
    {
     "name": "stdout",
     "output_type": "stream",
     "text": [
      "06/07/9676/\n"
     ]
    }
   ],
   "source": [
    "class Date:\n",
    "    def __init__(self, day=1, month=1, year=1):\n",
    "        self.day = day\n",
    "        self.month = month\n",
    "        self.year = year\n",
    "\n",
    "    @staticmethod\n",
    "    def zero_filler(n, l):\n",
    "        n = str(n)\n",
    "        r = l - len(n)\n",
    "        if r == 0:\n",
    "            return n\n",
    "        else:\n",
    "            for _ in range(r):\n",
    "                n = f\"0{n}\"\n",
    "        return n\n",
    "\n",
    "    def __str__(self):\n",
    "        return f\"{self.zero_filler(self.day,2)}/{self.zero_filler(self.month,2)}/{self.zero_filler(self.year,4)}\"\n",
    "\n",
    "\n",
    "a = Date(6, 7, 9676)\n",
    "print(a)"
   ]
  },
  {
   "cell_type": "markdown",
   "id": "16b11285",
   "metadata": {},
   "source": [
    "Ejercicio 3\n",
    "\n",
    "Implementa el método de instancia `.isLeap()` que diga si el año es bisiesto o no.\n"
   ]
  },
  {
   "cell_type": "code",
   "execution_count": 164,
   "id": "7ca940c9",
   "metadata": {},
   "outputs": [
    {
     "name": "stdout",
     "output_type": "stream",
     "text": [
      "Es bisiesto\n"
     ]
    }
   ],
   "source": [
    "class Date:\n",
    "    def __init__(self, day=1, month=1, year=1):\n",
    "        self.day = day\n",
    "        self.month = month\n",
    "        self.year = year\n",
    "\n",
    "    def isLeap(self):\n",
    "        if self.year % 4 == 0:\n",
    "            if self.year % 400 == 0:\n",
    "                return \"Es bisiesto\"\n",
    "            elif self.year % 100 == 0:\n",
    "                return \"No es bisiesto\"\n",
    "            return \"Es bisiesto\"\n",
    "        return \"No es bisiesto\"\n",
    "\n",
    "    def zero_filler(n, l):\n",
    "        n = str(n)\n",
    "        r = l - len(n)\n",
    "        if r == 0:\n",
    "            return n\n",
    "        else:\n",
    "            for _ in range(r):\n",
    "                n = f\"0{n}\"\n",
    "        return n\n",
    "\n",
    "    def __str__(self):\n",
    "        return f\"{self.zero_filler(self.day,2)}/{self.zero_filler(self.month,2)}/{self.zero_filler(self.year,4)}\"\n",
    "\n",
    "\n",
    "a = Date(6, 7, 1988)\n",
    "print(a.isLeap())"
   ]
  },
  {
   "cell_type": "markdown",
   "id": "bef9cb72",
   "metadata": {},
   "source": [
    "Ejercicio 4\n",
    "\n",
    "• Implementa un método de instancia `.totalMonthDays()` que diga el número de días del mes. \n",
    "\n",
    "Ten en cuenta que en los años bisiestos, Febrero tiene 29 días.\n",
    "\n",
    "• Implementa el método de instancia `.validDate()` que determine si una fecha es válida. \n",
    "\n",
    "Modiﬁca el constructor para que si la fecha introducida no es válida, devuelva un mensaje indicando \n",
    "`“¡¡¡La fecha introducida no es una fecha válida!!!”.`"
   ]
  },
  {
   "cell_type": "code",
   "execution_count": null,
   "id": "0b346262",
   "metadata": {},
   "outputs": [
    {
     "name": "stdout",
     "output_type": "stream",
     "text": [
      "¡¡¡La fecha introducida no es una fecha válida!!!\n",
      "Introduce primero una fecha valida!\n"
     ]
    }
   ],
   "source": [
    "class Date:\n",
    "    days_month = [31, 28, 31, 30, 31, 30, 31, 31, 30, 31, 30, 31]\n",
    "\n",
    "    def __init__(self, day=1, month=1, year=1):\n",
    "        self.day = int(day)\n",
    "        self.month = int(month)\n",
    "        self.year = int(year)\n",
    "        if not self.validDate():\n",
    "            print(\"¡¡¡La fecha introducida no es una fecha válida!!!\")\n",
    "\n",
    "    def validDate(self):\n",
    "        if self.month < 1 or self.month > 12:\n",
    "            return False\n",
    "        elif self.day < 1 or self.day > self.totalMonthDays():\n",
    "            return False\n",
    "        return True\n",
    "\n",
    "    def totalMonthDays(self):\n",
    "        if self.month > 12 or self.month < 1:\n",
    "            return \"Introduce primero una fecha valida!\"\n",
    "        if self.month == 2 and self.isLeap == \"Es bisiesto\":\n",
    "            return 29\n",
    "        else:\n",
    "            return self.days_month[self.month - 1]\n",
    "\n",
    "    def isLeap(self):\n",
    "        if self.year % 4 == 0:\n",
    "            if self.year % 400 == 0:\n",
    "                return \"Es bisiesto\"\n",
    "            elif self.year % 100 == 0:\n",
    "                return \"No es bisiesto\"\n",
    "            return \"Es bisiesto\"\n",
    "        return \"No es bisiesto\"\n",
    "\n",
    "    def zero_filler(n, l):\n",
    "        n = str(n)\n",
    "        r = l - len(n)\n",
    "        if r == 0:\n",
    "            return n\n",
    "        else:\n",
    "            for _ in range(r):\n",
    "                n = f\"0{n}\"\n",
    "        return n\n",
    "\n",
    "    def __str__(self):\n",
    "        return f\"{self.zero_filler(self.day,2)}/{self.zero_filler(self.month,2)}/{self.zero_filler(self.year,4)}\"\n",
    "\n",
    "\n",
    "a = Date(31, 13, 1987)\n",
    "# print(a)\n",
    "print(a.totalMonthDays())\n",
    "# print(a.validDate)"
   ]
  },
  {
   "cell_type": "markdown",
   "id": "115f9dee",
   "metadata": {},
   "source": [
    "Ejercicio 5\n",
    "\n",
    "Implementa la propiedad `.monthName` que devuelva el nombre del mes en inglés.\n",
    "\n",
    "Por ejemplo, si nuestra fecha es day = 8, month = 7 y year = 1998, la propiedad debe devolver July."
   ]
  },
  {
   "cell_type": "code",
   "execution_count": null,
   "id": "a974f96e",
   "metadata": {},
   "outputs": [
    {
     "ename": "TypeError",
     "evalue": "Date.zero_filler() takes 2 positional arguments but 3 were given",
     "output_type": "error",
     "traceback": [
      "\u001b[1;31m---------------------------------------------------------------------------\u001b[0m",
      "\u001b[1;31mTypeError\u001b[0m                                 Traceback (most recent call last)",
      "Cell \u001b[1;32mIn[224], line 51\u001b[0m\n\u001b[0;32m     47\u001b[0m         \u001b[38;5;28;01mreturn\u001b[39;00m n\n\u001b[0;32m     50\u001b[0m a \u001b[38;5;241m=\u001b[39m Date(\u001b[38;5;241m31\u001b[39m, \u001b[38;5;241m13\u001b[39m, \u001b[38;5;241m1987\u001b[39m)\n\u001b[1;32m---> 51\u001b[0m \u001b[38;5;28;43mprint\u001b[39;49m\u001b[43m(\u001b[49m\u001b[43ma\u001b[49m\u001b[43m)\u001b[49m\n\u001b[0;32m     52\u001b[0m \u001b[38;5;66;03m# print(a.totalMonthDays())\u001b[39;00m\n\u001b[0;32m     53\u001b[0m \u001b[38;5;66;03m# print(a.validDate)\u001b[39;00m\n",
      "Cell \u001b[1;32mIn[224], line 10\u001b[0m, in \u001b[0;36mDate.__str__\u001b[1;34m(self)\u001b[0m\n\u001b[0;32m      9\u001b[0m \u001b[38;5;28;01mdef\u001b[39;00m\u001b[38;5;250m \u001b[39m\u001b[38;5;21m__str__\u001b[39m(\u001b[38;5;28mself\u001b[39m):\n\u001b[1;32m---> 10\u001b[0m     \u001b[38;5;28;01mreturn\u001b[39;00m \u001b[38;5;124mf\u001b[39m\u001b[38;5;124m\"\u001b[39m\u001b[38;5;132;01m{\u001b[39;00m\u001b[38;5;28;43mself\u001b[39;49m\u001b[38;5;241;43m.\u001b[39;49m\u001b[43mzero_filler\u001b[49m\u001b[43m(\u001b[49m\u001b[38;5;28;43mself\u001b[39;49m\u001b[38;5;241;43m.\u001b[39;49m\u001b[43mday\u001b[49m\u001b[43m,\u001b[49m\u001b[38;5;241;43m2\u001b[39;49m\u001b[43m)\u001b[49m\u001b[38;5;132;01m}\u001b[39;00m\u001b[38;5;124m/\u001b[39m\u001b[38;5;132;01m{\u001b[39;00m\u001b[38;5;28mself\u001b[39m\u001b[38;5;241m.\u001b[39mzero_filler(\u001b[38;5;28mself\u001b[39m\u001b[38;5;241m.\u001b[39mmonth,\u001b[38;5;241m2\u001b[39m)\u001b[38;5;132;01m}\u001b[39;00m\u001b[38;5;124m/\u001b[39m\u001b[38;5;132;01m{\u001b[39;00m\u001b[38;5;28mself\u001b[39m\u001b[38;5;241m.\u001b[39mzero_filler(\u001b[38;5;28mself\u001b[39m\u001b[38;5;241m.\u001b[39myear,\u001b[38;5;241m4\u001b[39m)\u001b[38;5;132;01m}\u001b[39;00m\u001b[38;5;124m\"\u001b[39m\n",
      "\u001b[1;31mTypeError\u001b[0m: Date.zero_filler() takes 2 positional arguments but 3 were given"
     ]
    }
   ],
   "source": [
    "class Date:\n",
    "    days_month = [31, 28, 31, 30, 31, 30, 31, 31, 30, 31, 30, 31]\n",
    "\n",
    "    def __init__(self, day=1, month=1, year=1):\n",
    "        self.day = int(day)\n",
    "        self.month = int(month)\n",
    "        self.year = int(year)\n",
    "\n",
    "    def __str__(self):\n",
    "        return f\"{self.zero_filler(self.day,2)}/{self.zero_filler(self.month,2)}/{self.zero_filler(self.year,4)}\"\n",
    "\n",
    "    #     if not self.validDate():\n",
    "    #         print(\"¡¡¡La fecha introducida no es una fecha válida!!!\")\n",
    "\n",
    "    # def validDate(self):\n",
    "    #     if self.month < 1 or self.month > 12:\n",
    "    #         return False\n",
    "    #     elif self.day < 1 or self.day > self.totalMonthDays():\n",
    "    #         return False\n",
    "    #     return True\n",
    "\n",
    "    # def totalMonthDays(self):\n",
    "    #     if self.month > 12 or self.month < 1:\n",
    "    #         return \"Introduce primero una fecha valida!\"\n",
    "    #     if self.month == 2 and self.isLeap == \"Es bisiesto\":\n",
    "    #         return 29\n",
    "    #     else:\n",
    "    #         return self.days_month[self.month - 1]\n",
    "\n",
    "    def isLeap(self):\n",
    "        if self.year % 4 == 0:\n",
    "            if self.year % 400 == 0:\n",
    "                return \"Es bisiesto\"\n",
    "            elif self.year % 100 == 0:\n",
    "                return \"No es bisiesto\"\n",
    "            return \"Es bisiesto\"\n",
    "        return \"No es bisiesto\"\n",
    "\n",
    "    @property\n",
    "    def zero_filler(n, l):\n",
    "        n = str(n)\n",
    "        r = l - len(n)\n",
    "        if r == 0:\n",
    "            return n\n",
    "        else:\n",
    "            for _ in range(r):\n",
    "                n = f\"0{n}\"\n",
    "        return n\n",
    "\n",
    "\n",
    "a = Date(31, 13, 1987)\n",
    "print(a)\n",
    "# print(a.totalMonthDays())\n",
    "# print(a.validDate)"
   ]
  },
  {
   "cell_type": "markdown",
   "id": "52c7e1ae",
   "metadata": {},
   "source": [
    "\n",
    "Ejercicio 6\n",
    "• Implementa el método estático .areEqual(), que dadas dos fechas diga si son iguales.\n",
    "• Implementa el método estático .isLater(), que dadas dos fechas diga si la primera es posterior a la\n",
    "segunda.\n",
    "• Implementa el método estático .isPrevious(), que dadas dos fechas diga si la primera es anterior a\n",
    "la segunda.\n",
    "1\n",
    "Ejercicio 7\n",
    "• Implementa el método de clase .firstDayOfTheYear() que dado un año cree un objeto Date con la\n",
    "fecha correspondiente al primer día del año indicado.\n",
    "• Implementa el método de clase .lastDayOfTheYear() que dado un año cree un objeto Date con la\n",
    "fecha correspondiente al último día del año indicado.\n",
    "• Implementa el método de instancia .plusDay() que incremente un día la fecha. Ten en cuenta que si\n",
    "estamos en el último día del mes y añadimos un día, tendremos que cambiar de mes (pasar al siguiente).\n",
    "Y lo mismo si estamos en el último día del año (tendremos que pasar al siguiente año).\n",
    "• Implementa el método de instancia .minusDay() que decremente un día la fecha. Ten en cuenta que si\n",
    "estamos en el primer día del mes y restamos un día, tendremos que cambiar de mes (pasar al anterior).\n",
    "Y lo mismo si estamos en el primer día del año (tendremos que pasar al año anterior).\n",
    "Ejercicio 8\n",
    "• Implementa el método de clase .copy() que dado un objeto Date, devuelva otro objeto Date con los\n",
    "mismos atributos.\n",
    "• Implementea el método estático .difference() que dadas dos fechas devuelva el número de días que\n",
    "hay entre ellas.\n",
    "Ejercicio 9\n",
    "Implementa el método de clase .randomDate() que cree una fecha aleatoria válida.\n",
    "Ejercicio 10\n",
    "Implementa el método de clase .toDate() que dado un string con el formato \"01 January 0001\" devuelva\n",
    "el objeto fecha correspondiente a day = 1, month = 1, year = 1. Por ejemplo, si se pasa por parámetro\n",
    "05 July 1985, el método debería devolver el objeto Date con los atributos day = 5, month = 7, year =\n",
    "1985."
   ]
  }
 ],
 "metadata": {
  "kernelspec": {
   "display_name": "Python 3",
   "language": "python",
   "name": "python3"
  },
  "language_info": {
   "codemirror_mode": {
    "name": "ipython",
    "version": 3
   },
   "file_extension": ".py",
   "mimetype": "text/x-python",
   "name": "python",
   "nbconvert_exporter": "python",
   "pygments_lexer": "ipython3",
   "version": "3.13.3"
  }
 },
 "nbformat": 4,
 "nbformat_minor": 5
}
